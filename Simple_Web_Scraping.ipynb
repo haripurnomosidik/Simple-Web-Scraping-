{
  "nbformat": 4,
  "nbformat_minor": 0,
  "metadata": {
    "colab": {
      "name": "Web Scraping.ipynb",
      "provenance": [],
      "collapsed_sections": []
    },
    "kernelspec": {
      "name": "python3",
      "display_name": "Python 3"
    },
    "language_info": {
      "name": "python"
    }
  },
  "cells": [
    {
      "cell_type": "code",
      "metadata": {
        "id": "gP8QOJC5nHX7"
      },
      "source": [
        "from bs4 import BeautifulSoup\n",
        "import requests"
      ],
      "execution_count": 14,
      "outputs": []
    },
    {
      "cell_type": "markdown",
      "metadata": {
        "id": "5WMhcfryvC6G"
      },
      "source": [
        "### Request HTML source"
      ]
    },
    {
      "cell_type": "code",
      "metadata": {
        "id": "wpvBD7CqtVJo"
      },
      "source": [
        "# Example of scraping website data from detik.com (e.g. get News title, news link, and picture)\n",
        "html_res = requests.get('https://www.detik.com/terpopuler/health')"
      ],
      "execution_count": 15,
      "outputs": []
    },
    {
      "cell_type": "markdown",
      "metadata": {
        "id": "gQwx2a-wAX3p"
      },
      "source": [
        "### Parse HTML Source with Beautiful Soup"
      ]
    },
    {
      "cell_type": "code",
      "metadata": {
        "id": "ccvevomWAVHm"
      },
      "source": [
        "soup = BeautifulSoup(html_res.text, 'lxml')"
      ],
      "execution_count": 16,
      "outputs": []
    },
    {
      "cell_type": "code",
      "metadata": {
        "colab": {
          "base_uri": "https://localhost:8080/"
        },
        "id": "iDjf4ll86m3p",
        "outputId": "7a0c328f-9f45-4ced-e9c8-f1ae9613e131"
      },
      "source": [
        "# Capture data by tag and it class\n",
        "\n",
        "news_side = soup.find('div', class_ = 'grid-row list-content')\n",
        "all_news = news_side.find_all('article', class_ = 'list-content__item')\n",
        "\n",
        "for x, news in enumerate(all_news):\n",
        "  news_title = (news.find('h3', class_ = 'media__title').text)\n",
        "  news_link = (news.find('a', class_ = 'media__link')['href'])\n",
        "  img_link = (news.find('a', class_ = 'media__link').span.img['src'])\n",
        "  print(f\"\"\"\n",
        "  {x+1}. Judul Berita   : {news_title}\n",
        "         Link Berita    : {news_link}\n",
        "         Link Thumbnail : {img_link}\n",
        "  \"\"\")\n",
        "\n"
      ],
      "execution_count": 17,
      "outputs": [
        {
          "output_type": "stream",
          "name": "stdout",
          "text": [
            "\n",
            "  1. Judul Berita   : \n",
            "Jawa Barat Paling Tinggi, Ini Sebaran 3.779 Kasus Baru COVID-19 RI 12 September\n",
            "\n",
            "         Link Berita    : https://health.detik.com/berita-detikhealth/d-5720558/jawa-barat-paling-tinggi-ini-sebaran-3779-kasus-baru-covid-19-ri-12-september\n",
            "         Link Thumbnail : https://awsimages.detik.net.id/community/media/visual/2021/09/09/corona-belum-kelar-euforia-bisa-bikin-kasus-covid-19-naik-lagi-10_43.jpeg?w=220&q=90\n",
            "  \n",
            "\n",
            "  2. Judul Berita   : \n",
            "Fenomena 'Mati Gancet' Tidak Mustahil, Dokter Jelaskan Faktanya\n",
            "\n",
            "         Link Berita    : https://health.detik.com/berita-detikhealth/d-5720618/fenomena-mati-gancet-tidak-mustahil-dokter-jelaskan-faktanya\n",
            "         Link Thumbnail : https://awsimages.detik.net.id/community/media/visual/2021/09/08/viral-pasangan-gancet_43.png?w=220&q=90\n",
            "  \n",
            "\n",
            "  3. Judul Berita   : \n",
            "Apakah Miss V yang 'Terlalu Becek' Normal? Ini Penjelasan Dokter\n",
            "\n",
            "         Link Berita    : https://health.detik.com/sexual-health/d-5720678/apakah-miss-v-yang-terlalu-becek-normal-ini-penjelasan-dokter\n",
            "         Link Thumbnail : https://awsimages.detik.net.id/community/media/visual/2019/11/29/a4ab3e6e-63cb-4520-bcc5-d1de8074fe1f_43.jpeg?w=220&q=90\n",
            "  \n",
            "\n",
            "  4. Judul Berita   : \n",
            "Jadi yang Terendah, COVID-19 RI 12 September Tambah 3.779 Kasus\n",
            "\n",
            "         Link Berita    : https://health.detik.com/berita-detikhealth/d-5720541/jadi-yang-terendah-covid-19-ri-12-september-tambah-3779-kasus\n",
            "         Link Thumbnail : https://awsimages.detik.net.id/community/media/visual/2021/07/05/kasus-corona-indonesia-hari-ini-rekor-lagi-dan-prediksi-lonjakan_43.jpeg?w=220&q=90\n",
            "  \n",
            "\n",
            "  5. Judul Berita   : \n",
            "Viral Situs Bodong PeduliLindungi, Minta Pendaftar Vaksin COVID-19 Bayar 1 Juta\n",
            "\n",
            "         Link Berita    : https://health.detik.com/berita-detikhealth/d-5720504/viral-situs-bodong-pedulilindungi-minta-pendaftar-vaksin-covid-19-bayar-1-juta\n",
            "         Link Thumbnail : https://awsimages.detik.net.id/community/media/visual/2021/08/18/aplikasi-pedulilindungi-di-mal_43.jpeg?w=220&q=90\n",
            "  \n",
            "\n",
            "  6. Judul Berita   : \n",
            "Riset Baru soal Vaksin COVID-19 Lawan Varian Delta, Merek Mana Paling Mempan?\n",
            "\n",
            "         Link Berita    : https://health.detik.com/berita-detikhealth/d-5720395/riset-baru-soal-vaksin-covid-19-lawan-varian-delta-merek-mana-paling-mempan\n",
            "         Link Thumbnail : https://awsimages.detik.net.id/community/media/visual/2021/08/27/warga-bekasi-merapat-vaksin-pfizer-untuk-bumil-anak-12-ada-di-sini_43.jpeg?w=220&q=90\n",
            "  \n",
            "\n",
            "  7. Judul Berita   : \n",
            "Bisakah Pengidap Vaginismus Miliki Keturunan? Ini Kata Dokter\n",
            "\n",
            "         Link Berita    : https://health.detik.com/berita-detikhealth/d-5720458/bisakah-pengidap-vaginismus-miliki-keturunan-ini-kata-dokter\n",
            "         Link Thumbnail : https://awsimages.detik.net.id/community/media/visual/2021/03/19/ilustrasi-buang-air-kecil-setelah-seks_43.jpeg?w=220&q=90\n",
            "  \n",
            "\n",
            "  8. Judul Berita   : \n",
            "Dirut BPJS Kesehatan Ajak Masyarakat Berolahraga Selama Pandemi\n",
            "\n",
            "         Link Berita    : https://health.detik.com/berita-detikhealth/d-5720619/dirut-bpjs-kesehatan-ajak-masyarakat-berolahraga-selama-pandemi\n",
            "         Link Thumbnail : https://awsimages.detik.net.id/community/media/visual/2021/09/12/bpjs-kesehatan_43.jpeg?w=220&q=90\n",
            "  \n",
            "\n",
            "  9. Judul Berita   : \n",
            "CT Value 1,8 Pasien COVID-19 di Surabaya Bikin Geger, Ini Penjelasannya\n",
            "\n",
            "         Link Berita    : https://health.detik.com/berita-detikhealth/d-5720335/ct-value-18-pasien-covid-19-di-surabaya-bikin-geger-ini-penjelasannya\n",
            "         Link Thumbnail : https://awsimages.detik.net.id/community/media/visual/2021/08/09/ilustrasi-virus-covid-atau-corona_43.jpeg?w=220&q=90\n",
            "  \n",
            "\n",
            "  10. Judul Berita   : \n",
            "Cerita Penyintas Vaginismus, Nyaris Cerai karena Tak Bisa Bercinta\n",
            "\n",
            "         Link Berita    : https://health.detik.com/berita-detikhealth/d-5720283/cerita-penyintas-vaginismus-nyaris-cerai-karena-tak-bisa-bercinta\n",
            "         Link Thumbnail : https://awsimages.detik.net.id/community/media/visual/2019/05/29/25db7bfb-0971-40c5-8d4f-3cb210b55743_43.jpeg?w=220&q=90\n",
            "  \n",
            "\n",
            "  11. Judul Berita   : \n",
            "WHO Sebut Tiga Skenario Kapan Pemberian Booster Vaksin Bisa Dimaklumi\n",
            "\n",
            "         Link Berita    : https://health.detik.com/berita-detikhealth/d-5720208/who-sebut-tiga-skenario-kapan-pemberian-booster-vaksin-bisa-dimaklumi\n",
            "         Link Thumbnail : https://awsimages.detik.net.id/community/media/visual/2021/08/09/pemberian-vaksin-dosis-ketiga-untuk-nakes_43.jpeg?w=220&q=90\n",
            "  \n",
            "\n",
            "  12. Judul Berita   : \n",
            "Jadi Penyebab Gancet, Ternyata Ini Tanda Perempuan Idap Vaginismus\n",
            "\n",
            "         Link Berita    : https://health.detik.com/berita-detikhealth/d-5720136/jadi-penyebab-gancet-ternyata-ini-tanda-perempuan-idap-vaginismus\n",
            "         Link Thumbnail : https://awsimages.detik.net.id/community/media/visual/2021/03/19/ilustrasi-buang-air-kecil-setelah-seks_43.jpeg?w=220&q=90\n",
            "  \n",
            "\n",
            "  13. Judul Berita   : \n",
            "5 Fakta Vaksin Janssen Sekali Suntik yang Baru Saja Tiba di RI\n",
            "\n",
            "         Link Berita    : https://health.detik.com/berita-detikhealth/d-5720007/5-fakta-vaksin-janssen-sekali-suntik-yang-baru-saja-tiba-di-ri\n",
            "         Link Thumbnail : https://awsimages.detik.net.id/community/media/visual/2021/08/25/siap-siap-vaksin-johnson-and-johnson-bakal-segera-masuk-ri-1_43.jpeg?w=220&q=90\n",
            "  \n",
            "\n",
            "  14. Judul Berita   : \n",
            "Yang Perlu Diwaspadai dari Varian Mu Covid-19\n",
            "\n",
            "         Link Berita    : https://health.detik.com/detiktv/d-5720255/yang-perlu-diwaspadai-dari-varian-mu-covid-19\n",
            "         Link Thumbnail : https://awsimages.detik.net.id/community/media/visual/2021/06/30/6-negara-ini-lockdown-lagi-gegara-dihantam-varian-delta_43.jpeg?w=220&q=90\n",
            "  \n",
            "\n",
            "  15. Judul Berita   : \n",
            "Awalnya Ingin Damai, Singapura Kini Hati-hati Hadapi Lonjakan COVID-19\n",
            "\n",
            "         Link Berita    : https://health.detik.com/berita-detikhealth/d-5720045/awalnya-ingin-damai-singapura-kini-hati-hati-hadapi-lonjakan-covid-19\n",
            "         Link Thumbnail : https://awsimages.detik.net.id/community/media/visual/2021/07/12/patung-merlion-di-singapura_43.jpeg?w=220&q=90\n",
            "  \n",
            "\n",
            "  16. Judul Berita   : \n",
            "Seekor Anjing atau Badut Menyeramkan? Bisakah Kamu Melihat Ilusi Optik Ini\n",
            "\n",
            "         Link Berita    : https://health.detik.com/berita-detikhealth/d-5720087/seekor-anjing-atau-badut-menyeramkan-bisakah-kamu-melihat-ilusi-optik-ini\n",
            "         Link Thumbnail : https://awsimages.detik.net.id/community/media/visual/2021/09/12/ilusi-optik_43.png?w=220&q=90\n",
            "  \n",
            "\n",
            "  17. Judul Berita   : \n",
            "Dokumen AS 'Bocor', Sebenarnya Danai Riset Corona di Wuhan untuk Apa Sih?\n",
            "\n",
            "         Link Berita    : https://health.detik.com/berita-detikhealth/d-5719815/dokumen-as-bocor-sebenarnya-danai-riset-corona-di-wuhan-untuk-apa-sih\n",
            "         Link Thumbnail : https://awsimages.detik.net.id/community/media/visual/2021/01/30/who-sisir-lab-hingga-pasar-saat-selidiki-asal-usul-covid-19-3_43.jpeg?w=220&q=90\n",
            "  \n",
            "\n",
            "  18. Judul Berita   : \n",
            "Kritis karena COVID-19, YouTuber Chandra Liow Sempat Sulit Cari RS\n",
            "\n",
            "         Link Berita    : https://health.detik.com/berita-detikhealth/d-5719820/kritis-karena-covid-19-youtuber-chandra-liow-sempat-sulit-cari-rs\n",
            "         Link Thumbnail : https://awsimages.detik.net.id/community/media/visual/2021/09/11/chandra-liow_43.jpeg?w=220&q=90\n",
            "  \n",
            "\n",
            "  19. Judul Berita   : \n",
            "HIIT-Functional Training, Ini Olahraga yang Ngetren di Tahun 2021\n",
            "\n",
            "         Link Berita    : https://health.detik.com/berita-detikhealth/d-5719580/hiit-functional-training-ini-olahraga-yang-ngetren-di-tahun-2021\n",
            "         Link Thumbnail : https://awsimages.detik.net.id/community/media/visual/2021/09/11/ilustrasi-olahraga_43.jpeg?w=220&q=90\n",
            "  \n",
            "\n",
            "  20. Judul Berita   : \n",
            "Pakar Ingatkan Kemungkinan Varian Covid-19 Baru Lahir di Indonesia\n",
            "\n",
            "         Link Berita    : https://health.detik.com/detiktv/d-5720046/pakar-ingatkan-kemungkinan-varian-covid-19-baru-lahir-di-indonesia\n",
            "         Link Thumbnail : https://awsimages.detik.net.id/community/media/visual/2021/08/06/waspada-varian-baru-corona-lewat-seni-mural_43.jpeg?w=220&q=90\n",
            "  \n"
          ]
        }
      ]
    }
  ]
}